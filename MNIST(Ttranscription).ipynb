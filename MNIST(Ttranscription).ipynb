{
 "cells": [
  {
   "cell_type": "markdown",
   "metadata": {},
   "source": [
    "1. 기본 라이브러리 호출\n",
    "\n",
    "우선 필요한 라이브러리를 호출합니다. 각 라이브러리는 다음과 같습니다."
   ]
  },
  {
   "cell_type": "code",
   "execution_count": 4,
   "metadata": {},
   "outputs": [],
   "source": [
    "# 케라스 모델 형성\n",
    "from keras.models import Sequential\n",
    "from keras.utils import np_utils \n",
    "from keras.layers.core import Dense, Activation, Dropout\n",
    "from keras.layers import Conv2D, MaxPooling2D, Flatten\n",
    "\n",
    "# 훈련 데이터셋에서 검증 데이터셋\n",
    "from sklearn.model_selection import train_test_split\n",
    "\n",
    "# 데이터 분석\n",
    "import pandas as pd\n",
    "import numpy as np"
   ]
  },
  {
   "cell_type": "markdown",
   "metadata": {},
   "source": [
    "2. 데이터 받기\n",
    "\n",
    "read_csv를 이용하여 입력받습니다"
   ]
  },
  {
   "cell_type": "code",
   "execution_count": 5,
   "metadata": {},
   "outputs": [],
   "source": [
    "train = pd.read_csv('C:/Users/1/python/MNIST/train.csv')\n",
    "labels = train.iloc[:,0].values.astype('float32')\n",
    "\n",
    "X_train = (train.iloc[:,1:].values).astype('float32')\n",
    "X_test = (pd.read_csv('C:/Users/1/python/MNIST/test.csv').values).astype('float32')"
   ]
  },
  {
   "cell_type": "markdown",
   "metadata": {},
   "source": [
    "각 값의 레이블은 to_categocial을 활용하여 범주화 시킵니다."
   ]
  },
  {
   "cell_type": "code",
   "execution_count": 6,
   "metadata": {},
   "outputs": [],
   "source": [
    "y_train = np_utils.to_categorical(labels)"
   ]
  },
  {
   "cell_type": "markdown",
   "metadata": {},
   "source": [
    "이미지는 28 by 28 pixel이고 흑백 채널 1개 이므로 다음과 같이 reshape을 해줍니다."
   ]
  },
  {
   "cell_type": "code",
   "execution_count": 7,
   "metadata": {},
   "outputs": [],
   "source": [
    "X_train = X_train.reshape((-1,28,28,1))\n",
    "X_test = X_test.reshape((-1,28,28,1))"
   ]
  },
  {
   "cell_type": "markdown",
   "metadata": {},
   "source": [
    "이제 훈련 데이터를 이용해 검증 데이터셋을 만들어 보겠습니다."
   ]
  },
  {
   "cell_type": "code",
   "execution_count": 8,
   "metadata": {},
   "outputs": [],
   "source": [
    "X_train, X_val, y_train, y_val = train_test_split(X_train, y_train, test_size = 0.1)"
   ]
  },
  {
   "cell_type": "markdown",
   "metadata": {},
   "source": [
    "3. 데이터 전처리\n",
    "\n",
    "데이터의 스케일을 조정합니다. np.max 대신 255를 사용해도 됩니다."
   ]
  },
  {
   "cell_type": "code",
   "execution_count": 9,
   "metadata": {},
   "outputs": [],
   "source": [
    "scale = np.max(X_train)\n",
    "X_train /= scale\n",
    "X_test /= scale\n",
    "\n",
    "mean =np.std(X_train)\n",
    "X_train -= mean\n",
    "X_test -= mean"
   ]
  },
  {
   "cell_type": "markdown",
   "metadata": {},
   "source": [
    "4. 모델 구성\n",
    "\n",
    "모델을 쌓아줍니다. layer를 계속 쌓아서 만들 수 있습니다.\n",
    "\n",
    "모델에서 사용하는 layer의 종류는 총 5개입니다.\n",
    "\n",
    "- Conv2D : Convolution Layer입니다. 이미지 처리에서 자주 사용하는 층입니다. 지역 패턴을 학습합니다.\n",
    "- MaxPooling2D : MaxPooling Layer입니다. 다운 샘플링합니다. 가중치 개수를 줄이고, 공간 특성 학습에 유용합니다.\n",
    "- DropOut : 무작위로 네트워크를 생략합니다. 이를 통해 과적합을 예방할 수 있습니다.\n",
    "- Flatten : 지금까지 텐서를 하나로 펴는 과정입니다.\n",
    "- Dense : 완전 연결 층입니다. 전역 패턴을 학습합니다.\n",
    "\n",
    "활성화 함수는 2종류로 사용합니다\n",
    "\n",
    "- relu : 주로 은닉층에 사용됩니다.\n",
    "- softmax : 다중 클래스 분류 출력층에서 사용됩니다."
   ]
  },
  {
   "cell_type": "code",
   "execution_count": 10,
   "metadata": {},
   "outputs": [],
   "source": [
    "model = Sequential()\n",
    "model.add(Conv2D(32,(3,3), activation = 'relu', input_shape=(28,28,1)))\n",
    "model.add(Conv2D(32,(3,3), activation = 'relu', input_shape=(28,28,1)))\n",
    "model.add(MaxPooling2D((2,2)))\n",
    "model.add(Dropout(0.25))\n",
    "\n",
    "model.add(Conv2D(64,(3,3), activation = 'relu'))\n",
    "model.add(Conv2D(64,(3,3), activation = 'relu'))\n",
    "model.add(MaxPooling2D((2,2)))\n",
    "model.add(Dropout(0.25))\n",
    "\n",
    "model.add(Flatten())\n",
    "model.add(Dense(256, activation='relu'))\n",
    "model.add(Dense(10, activation = 'softmax'))"
   ]
  },
  {
   "cell_type": "markdown",
   "metadata": {},
   "source": [
    "5. 모델 컴파일 및 훈련'\n",
    "\n",
    "5.1 컴파일\n",
    "\n",
    "컴파일에서는 총 3가지를 지정합니다.\n",
    "\n",
    "1. 옵티마이저는 RMSprop 옵티마이저를 사용합니다. 경사하강법보다 빠른 방법입니다.\n",
    "2. 손실함수는 Categorical_crossentropy를 사용합니다, 두 확률 분포 사이의 거리를 측정하고 확률 분포 사이의 거리를 최소화하고최적화 합니다.\n",
    "3. 측정지표는 accuracy, 즉 정확도로 지정합니다."
   ]
  },
  {
   "cell_type": "markdown",
   "metadata": {},
   "source": [
    "5.2 훈련\n",
    "\n",
    "검증 셋을 만드는 방법은 다양합니다. train_test_split을 사용할 수 있습니다."
   ]
  },
  {
   "cell_type": "code",
   "execution_count": 12,
   "metadata": {},
   "outputs": [
    {
     "name": "stdout",
     "output_type": "stream",
     "text": [
      "Epoch 1/20\n",
      "591/591 [==============================] - 28s 46ms/step - loss: 0.4335 - accuracy: 0.8576 - val_loss: 14.0591 - val_accuracy: 0.9729\n",
      "Epoch 2/20\n",
      "591/591 [==============================] - 29s 49ms/step - loss: 0.0643 - accuracy: 0.9806 - val_loss: 12.8725 - val_accuracy: 0.9819\n",
      "Epoch 3/20\n",
      "591/591 [==============================] - 31s 52ms/step - loss: 0.0406 - accuracy: 0.9869 - val_loss: 11.9222 - val_accuracy: 0.9774\n",
      "Epoch 4/20\n",
      "591/591 [==============================] - 30s 51ms/step - loss: 0.0342 - accuracy: 0.9896 - val_loss: 7.3671 - val_accuracy: 0.9871\n",
      "Epoch 5/20\n",
      "591/591 [==============================] - 30s 51ms/step - loss: 0.0289 - accuracy: 0.9904 - val_loss: 22.4789 - val_accuracy: 0.9733\n",
      "Epoch 6/20\n",
      "591/591 [==============================] - 31s 53ms/step - loss: 0.0257 - accuracy: 0.9922 - val_loss: 25.6267 - val_accuracy: 0.9762\n",
      "Epoch 7/20\n",
      "591/591 [==============================] - 31s 53ms/step - loss: 0.0227 - accuracy: 0.9923 - val_loss: 22.9164 - val_accuracy: 0.9819\n",
      "Epoch 8/20\n",
      "591/591 [==============================] - 31s 52ms/step - loss: 0.0225 - accuracy: 0.9933 - val_loss: 33.9224 - val_accuracy: 0.9750\n",
      "Epoch 9/20\n",
      "591/591 [==============================] - 30s 51ms/step - loss: 0.0211 - accuracy: 0.9946 - val_loss: 171.4791 - val_accuracy: 0.8648\n",
      "Epoch 10/20\n",
      "591/591 [==============================] - 30s 51ms/step - loss: 0.0191 - accuracy: 0.9947 - val_loss: 51.7379 - val_accuracy: 0.9671\n",
      "Epoch 11/20\n",
      "591/591 [==============================] - 31s 52ms/step - loss: 0.0167 - accuracy: 0.9954 - val_loss: 218.8865 - val_accuracy: 0.9081\n",
      "Epoch 12/20\n",
      "591/591 [==============================] - 31s 52ms/step - loss: 0.0163 - accuracy: 0.9949 - val_loss: 78.2500 - val_accuracy: 0.9683\n",
      "Epoch 13/20\n",
      "591/591 [==============================] - 31s 52ms/step - loss: 0.0164 - accuracy: 0.9950 - val_loss: 65.4240 - val_accuracy: 0.9574\n",
      "Epoch 14/20\n",
      "591/591 [==============================] - 31s 52ms/step - loss: 0.0138 - accuracy: 0.9953 - val_loss: 197.2423 - val_accuracy: 0.9236\n",
      "Epoch 15/20\n",
      "591/591 [==============================] - 31s 52ms/step - loss: 0.0137 - accuracy: 0.9955 - val_loss: 252.5257 - val_accuracy: 0.8993\n",
      "Epoch 16/20\n",
      "591/591 [==============================] - 31s 52ms/step - loss: 0.0128 - accuracy: 0.9967 - val_loss: 616.5126 - val_accuracy: 0.8371\n",
      "Epoch 17/20\n",
      "591/591 [==============================] - 31s 52ms/step - loss: 0.0136 - accuracy: 0.9957 - val_loss: 319.8403 - val_accuracy: 0.9057\n",
      "Epoch 18/20\n",
      "591/591 [==============================] - 31s 52ms/step - loss: 0.0141 - accuracy: 0.9965 - val_loss: 835.7112 - val_accuracy: 0.7640\n",
      "Epoch 19/20\n",
      "591/591 [==============================] - 31s 52ms/step - loss: 0.0128 - accuracy: 0.9970 - val_loss: 1674.9164 - val_accuracy: 0.7060\n",
      "Epoch 20/20\n",
      "591/591 [==============================] - 31s 52ms/step - loss: 0.0118 - accuracy: 0.9966 - val_loss: 1125.1769 - val_accuracy: 0.7893\n",
      "1182/1182 [==============================] - 9s 7ms/step - loss: 0.0034 - accuracy: 0.9990\n",
      "훈련데이터 점수 :  [0.003420440014451742, 0.998968243598938]\n",
      "132/132 [==============================] - 1s 7ms/step - loss: 1125.1770 - accuracy: 0.7893\n",
      "검증데이터 점수 :  [1125.177001953125, 0.7892857193946838]\n"
     ]
    }
   ],
   "source": [
    "model.compile(optimizer = 'rmsprop',\n",
    "              loss = 'categorical_crossentropy',\n",
    "              metrics = ['accuracy'])\n",
    "history = model.fit(X_train, y_train, epochs = 20, batch_size=64, validation_data=(X_val, y_val))\n",
    "\n",
    "print(\"훈련데이터 점수 : \", model.evaluate(X_train, y_train))\n",
    "print(\"검증데이터 점수 : \", model.evaluate(X_val, y_val))"
   ]
  },
  {
   "cell_type": "markdown",
   "metadata": {},
   "source": [
    "6. 훈련 결과 시각화\n",
    "\n",
    "fit 함수의 리턴 값은 속성 4가지입니다.\n",
    "\n",
    "- acc : 훈련 정확도\n",
    "- loss : 훈련 손실값\n",
    "- val_acc : 검증 손실값\n",
    "- val_loss : 검증 정확도\n",
    "\n",
    "matplot을 활용하여 그래프를 그립니다.\n",
    "\n",
    "각각은 loss와 accuracy에 관한 그래프 입니다."
   ]
  },
  {
   "cell_type": "code",
   "execution_count": 16,
   "metadata": {},
   "outputs": [
    {
     "data": {
      "image/png": "[encoded data removed]",
      "text/plain": [
       "<Figure size 432x288 with 1 Axes>"
      ]
     },
     "metadata": {
      "needs_background": "light"
     },
     "output_type": "display_data"
    }
   ],
   "source": [
    "import matplotlib.pyplot as plt\n",
    "\n",
    "acc = history.history['accuracy']\n",
    "val_acc = history.history['val_accuracy']\n",
    "loss = history.history['loss']\n",
    "val_loss = history.history['val_loss']\n",
    "\n",
    "epochs = range(1, len(acc) + 1)\n",
    "\n",
    "plt.plot(epochs, loss, 'bo', label='Training loss')\n",
    "\n",
    "plt.plot(epochs, val_loss, 'b', label='Validation loss')\n",
    "plt.title('Training and validation loss')\n",
    "plt.xlabel('Epochs')\n",
    "plt.ylabel('Loss')\n",
    "plt.legend()\n",
    "\n",
    "plt.show()"
   ]
  },
  {
   "cell_type": "code",
   "execution_count": 17,
   "metadata": {},
   "outputs": [
    {
     "data": {
      "image/png": "[encoded data removed]",
      "text/plain": [
       "<Figure size 432x288 with 1 Axes>"
      ]
     },
     "metadata": {
      "needs_background": "light"
     },
     "output_type": "display_data"
    }
   ],
   "source": [
    "plt.plot(epochs, acc, 'bo', label='Training acc')\n",
    "plt.plot(epochs, val_acc, 'b', label='Validation acc')\n",
    "plt.title('Training and validation accuracy')\n",
    "plt.xlabel('Epochs')\n",
    "plt.ylabel('Accuracy')\n",
    "plt.legend()\n",
    "plt.show()"
   ]
  },
  {
   "cell_type": "markdown",
   "metadata": {},
   "source": [
    "검증 데이터셋이 작아서 그런지, 아니면 층이 복잡해서 과적합이 비교적 빨리 일어나는 것 같습니다. 무시하고 제출해보겠습니다."
   ]
  },
  {
   "cell_type": "markdown",
   "metadata": {},
   "source": [
    "7. 예측 및 제출\n",
    "\n",
    "마지막 제출용 csv파일을 만드는 방법은 사람마다 다른 것 같습니다. 프랑소와 숄레님은 함수로 만들어서 다음과 같이 마지막 제출 파일을 만들어서 가져와봤습니다."
   ]
  },
  {
   "cell_type": "code",
   "execution_count": 18,
   "metadata": {},
   "outputs": [
    {
     "name": "stderr",
     "output_type": "stream",
     "text": [
      "C:\\Users\\1\\anaconda3\\lib\\site-packages\\tensorflow\\python\\keras\\engine\\sequential.py:450: UserWarning: `model.predict_classes()` is deprecated and will be removed after 2021-01-01. Please use instead:* `np.argmax(model.predict(x), axis=-1)`,   if your model does multi-class classification   (e.g. if it uses a `softmax` last-layer activation).* `(model.predict(x) > 0.5).astype(\"int32\")`,   if your model does binary classification   (e.g. if it uses a `sigmoid` last-layer activation).\n",
      "  warnings.warn('`model.predict_classes()` is deprecated and '\n"
     ]
    }
   ],
   "source": [
    "preds = model.predict_classes(X_test, verbose=0)\n",
    "\n",
    "def write_preds(preds, fname) :\n",
    "    pd.DataFrame({\"ImageId\": list(range(1,len(preds)+1)), \"Label\": preds}).to_csv(fname, index = False, header = True)\n",
    "\n",
    "write_preds(preds, \"keras-mnist.csv\")"
   ]
  },
  {
   "cell_type": "code",
   "execution_count": null,
   "metadata": {},
   "outputs": [],
   "source": []
  }
 ],
 "metadata": {
  "kernelspec": {
   "display_name": "Python 3",
   "language": "python",
   "name": "python3"
  },
  "language_info": {
   "codemirror_mode": {
    "name": "ipython",
    "version": 3
   },
   "file_extension": ".py",
   "mimetype": "text/x-python",
   "name": "python",
   "nbconvert_exporter": "python",
   "pygments_lexer": "ipython3",
   "version": "3.8.5"
  }
 },
 "nbformat": 4,
 "nbformat_minor": 4
}
